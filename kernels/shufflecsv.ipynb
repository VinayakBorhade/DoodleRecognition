{
 "cells": [
  {
   "cell_type": "code",
   "execution_count": 1,
   "metadata": {
    "_cell_guid": "b1076dfc-b9ad-4769-8c92-a6c4dae69d19",
    "_uuid": "8f2839f25d086af736a60e9eeb907d3b93b6e0e5"
   },
   "outputs": [],
   "source": [
    "from IPython.core.interactiveshell import InteractiveShell\n",
    "InteractiveShell.ast_node_interactivity = \"all\"\n",
    "import json\n",
    "import os\n",
    "import datetime as dt\n",
    "from tqdm import tqdm\n",
    "import pandas as pd\n",
    "import numpy as np\n"
   ]
  },
  {
   "cell_type": "code",
   "execution_count": 2,
   "metadata": {
    "_cell_guid": "79c7e3d0-c299-4dcb-8224-4455121ee9b0",
    "_uuid": "d629ff2d2480ee46fbb7e2d37f6b5fab8052498a"
   },
   "outputs": [],
   "source": [
    "def f2cat(filename: str) -> str:\n",
    "    return filename.split('.')[0]\n",
    "\n",
    "class Simplified():\n",
    "    def __init__(self, input_path='./input'):\n",
    "        self.input_path = input_path\n",
    "\n",
    "    def list_all_categories(self):\n",
    "        files = ['apple.csv', 'banana.csv', 'circle.csv', 'pineapple.csv'] #os.listdir(os.path.join(self.input_path, 'train_simplified')) \n",
    "        print(\"files; \", files)\n",
    "        return sorted([f2cat(f) for f in files], key=str.lower)\n",
    "\n",
    "    def read_training_csv(self, category, nrows=None, usecols=None, drawing_transform=False):\n",
    "        df = pd.read_csv(os.path.join(self.input_path, 'train_simplified', category + '.csv'),\n",
    "                         nrows=nrows, parse_dates=['timestamp'], usecols=usecols)\n",
    "        if drawing_transform:\n",
    "            df['drawing'] = df['drawing'].apply(json.loads)\n",
    "        return df\n",
    "    def read_test_csv(self, category, skip_rows=30000, nrows=10000, usecols=None, drawing_transform=False):\n",
    "        df=pd.read_csv(os.path.join(self.input_path, 'train_simplified', category + '.csv'),\n",
    "                         parse_dates=['timestamp'], usecols=usecols)\n",
    "        print(\"skip_rows\")\n",
    "        df=df.iloc[30000:40000]\n",
    "        #print(\"len(df): \", len(df))\n",
    "        if drawing_transform:\n",
    "            df['drawing'] = df['drawing'].apply(json.loads)\n",
    "        return df\n",
    "    "
   ]
  },
  {
   "cell_type": "code",
   "execution_count": 3,
   "metadata": {},
   "outputs": [
    {
     "name": "stdout",
     "output_type": "stream",
     "text": [
      "files;  ['apple.csv', 'banana.csv', 'circle.csv', 'pineapple.csv']\n",
      "4\n"
     ]
    }
   ],
   "source": [
    "s = Simplified('../input')\n",
    "NCSVS = 4\n",
    "categories = s.list_all_categories()\n",
    "print(len(categories))\n"
   ]
  },
  {
   "cell_type": "code",
   "execution_count": 4,
   "metadata": {
    "_kg_hide-output": true
   },
   "outputs": [
    {
     "name": "stderr",
     "output_type": "stream",
     "text": [
      "4it [00:02,  1.39it/s]\n",
      "1it [00:01,  1.12s/it]"
     ]
    },
    {
     "name": "stdout",
     "output_type": "stream",
     "text": [
      "skip_rows\n",
      "df test, len(df):  10000\n"
     ]
    },
    {
     "name": "stderr",
     "output_type": "stream",
     "text": [
      "2it [00:03,  1.35s/it]"
     ]
    },
    {
     "name": "stdout",
     "output_type": "stream",
     "text": [
      "skip_rows\n",
      "df test, len(df):  10000\n"
     ]
    },
    {
     "name": "stderr",
     "output_type": "stream",
     "text": [
      "3it [00:03,  1.20s/it]"
     ]
    },
    {
     "name": "stdout",
     "output_type": "stream",
     "text": [
      "skip_rows\n",
      "df test, len(df):  10000\n",
      "skip_rows\n",
      "df test, len(df):  10000\n"
     ]
    },
    {
     "name": "stderr",
     "output_type": "stream",
     "text": [
      "4it [00:05,  1.21s/it]\n"
     ]
    }
   ],
   "source": [
    "for y, cat in tqdm(enumerate(categories)):\n",
    "    df = s.read_training_csv(cat, nrows=30000)\n",
    "    #df\n",
    "    df['y'] = y\n",
    "    df['cv'] = (df.key_id // 10 ** 7) % NCSVS\n",
    "    for k in range(NCSVS):\n",
    "        filename = 'train_k{}.csv'.format(k)\n",
    "        chunk = df[df.cv == k]\n",
    "        chunk = chunk.drop(['key_id'], axis=1)\n",
    "        if y == 0:\n",
    "            chunk.to_csv(filename, index=False)\n",
    "        else:\n",
    "            chunk.to_csv(filename, mode='a', header=False, index=False)\n",
    "#-------------------------- making test csv(s)\n",
    "for y, cat in tqdm(enumerate(categories)):\n",
    "    df = s.read_test_csv(cat, nrows=100, skip_rows=30000)\n",
    "    print(\"df test, len(df): \", len(df))\n",
    "    \n",
    "    df['y'] = y\n",
    "    df['cv'] = (df.key_id // 10 ** 7) % NCSVS\n",
    "    for k in range(NCSVS):\n",
    "        filename = 'test_k{}.csv'.format(k)\n",
    "        chunk = df[df.cv == k]\n",
    "        chunk = chunk.drop(['key_id'], axis=1)\n",
    "        if y == 0:\n",
    "            chunk.to_csv(filename, index=False)\n",
    "        else:\n",
    "            chunk.to_csv(filename, mode='a', header=False, index=False)\n",
    "            \n",
    "            "
   ]
  },
  {
   "cell_type": "code",
   "execution_count": 5,
   "metadata": {},
   "outputs": [
    {
     "name": "stderr",
     "output_type": "stream",
     "text": [
      "100%|██████████| 4/4 [00:36<00:00,  9.21s/it]\n",
      "  0%|          | 0/4 [00:00<?, ?it/s]"
     ]
    },
    {
     "name": "stdout",
     "output_type": "stream",
     "text": [
      "(30072, 7)\n"
     ]
    },
    {
     "name": "stderr",
     "output_type": "stream",
     "text": [
      "100%|██████████| 4/4 [00:11<00:00,  2.95s/it]"
     ]
    },
    {
     "name": "stdout",
     "output_type": "stream",
     "text": [
      "(9873, 7)\n"
     ]
    },
    {
     "name": "stderr",
     "output_type": "stream",
     "text": [
      "\n"
     ]
    }
   ],
   "source": [
    "for k in tqdm(range(NCSVS)):\n",
    "    filename = 'train_k{}.csv'.format(k)\n",
    "    if os.path.exists(filename):\n",
    "        df = pd.read_csv(filename)\n",
    "        df['rnd'] = np.random.rand(len(df))\n",
    "        df = df.sort_values(by='rnd').drop('rnd', axis=1)\n",
    "        df.to_csv(filename + '.gz', compression='gzip', index=False)\n",
    "        os.remove(filename)\n",
    "print(df.shape)\n",
    "\n",
    "#-----------------------shuffling test csv(s)\n",
    "for k in tqdm(range(NCSVS)):\n",
    "    filename = 'test_k{}.csv'.format(k)\n",
    "    if os.path.exists(filename):\n",
    "        df = pd.read_csv(filename)\n",
    "        df['rnd'] = np.random.rand(len(df))\n",
    "        df = df.sort_values(by='rnd').drop('rnd', axis=1)\n",
    "        df.to_csv(filename + '.gz', compression='gzip', index=False)\n",
    "        os.remove(filename)\n",
    "print(df.shape)\n"
   ]
  },
  {
   "cell_type": "code",
   "execution_count": 6,
   "metadata": {},
   "outputs": [
    {
     "data": {
      "text/html": [
       "./<br>\n",
       "&nbsp;&nbsp;<a href='./train_k3.csv.gz' target='_blank'>train_k3.csv.gz</a><br>\n",
       "&nbsp;&nbsp;<a href='./__output__.json' target='_blank'>__output__.json</a><br>\n",
       "&nbsp;&nbsp;<a href='./train_k0.csv.gz' target='_blank'>train_k0.csv.gz</a><br>\n",
       "&nbsp;&nbsp;<a href='./__notebook__.ipynb' target='_blank'>__notebook__.ipynb</a><br>\n",
       "&nbsp;&nbsp;<a href='./test_k0.csv.gz' target='_blank'>test_k0.csv.gz</a><br>\n",
       "&nbsp;&nbsp;<a href='./train_k2.csv.gz' target='_blank'>train_k2.csv.gz</a><br>\n",
       "&nbsp;&nbsp;<a href='./test_k2.csv.gz' target='_blank'>test_k2.csv.gz</a><br>\n",
       "&nbsp;&nbsp;<a href='./test_k1.csv.gz' target='_blank'>test_k1.csv.gz</a><br>\n",
       "&nbsp;&nbsp;<a href='./test_k3.csv.gz' target='_blank'>test_k3.csv.gz</a><br>\n",
       "&nbsp;&nbsp;<a href='./train_k1.csv.gz' target='_blank'>train_k1.csv.gz</a><br>"
      ],
      "text/plain": [
       "./\n",
       "  train_k3.csv.gz\n",
       "  __output__.json\n",
       "  train_k0.csv.gz\n",
       "  __notebook__.ipynb\n",
       "  test_k0.csv.gz\n",
       "  train_k2.csv.gz\n",
       "  test_k2.csv.gz\n",
       "  test_k1.csv.gz\n",
       "  test_k3.csv.gz\n",
       "  train_k1.csv.gz"
      ]
     },
     "execution_count": 6,
     "metadata": {},
     "output_type": "execute_result"
    }
   ],
   "source": [
    "from IPython.display import FileLinks\n",
    "FileLinks('.')\n"
   ]
  }
 ],
 "metadata": {
  "kernelspec": {
   "display_name": "Python 3",
   "language": "python",
   "name": "python3"
  },
  "language_info": {
   "codemirror_mode": {
    "name": "ipython",
    "version": 3
   },
   "file_extension": ".py",
   "mimetype": "text/x-python",
   "name": "python",
   "nbconvert_exporter": "python",
   "pygments_lexer": "ipython3",
   "version": "3.6.4"
  }
 },
 "nbformat": 4,
 "nbformat_minor": 1
}
